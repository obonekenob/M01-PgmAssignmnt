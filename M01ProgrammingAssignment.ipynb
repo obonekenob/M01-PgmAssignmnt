{
 "cells": [
  {
   "cell_type": "code",
   "execution_count": 1,
   "id": "6c8688bb",
   "metadata": {},
   "outputs": [
    {
     "data": {
      "text/plain": [
       "3600"
      ]
     },
     "execution_count": 1,
     "metadata": {},
     "output_type": "execute_result"
    }
   ],
   "source": [
    "# Paul Ray Thompson\n",
    "# SDEV220\n",
    "# Problem 3.1\n",
    "\n",
    "60 * 60\n"
   ]
  },
  {
   "cell_type": "code",
   "execution_count": 2,
   "id": "ef54b092",
   "metadata": {},
   "outputs": [
    {
     "data": {
      "text/plain": [
       "3600"
      ]
     },
     "execution_count": 2,
     "metadata": {},
     "output_type": "execute_result"
    }
   ],
   "source": [
    "# Paul Ray Thompson\n",
    "# SDEV220\n",
    "# Problem 3.2\n",
    "\n",
    "seconds_per_hour = 60 * 60\n",
    "seconds_per_hour\n"
   ]
  },
  {
   "cell_type": "code",
   "execution_count": 3,
   "id": "e0ad7c00",
   "metadata": {},
   "outputs": [
    {
     "data": {
      "text/plain": [
       "86400"
      ]
     },
     "execution_count": 3,
     "metadata": {},
     "output_type": "execute_result"
    }
   ],
   "source": [
    "# Paul Ray Thompson\n",
    "# SDEV220\n",
    "# Problem 3.3\n",
    "\n",
    "seconds_per_hour * 24\n"
   ]
  },
  {
   "cell_type": "code",
   "execution_count": 4,
   "id": "c16d240d",
   "metadata": {},
   "outputs": [
    {
     "data": {
      "text/plain": [
       "86400"
      ]
     },
     "execution_count": 4,
     "metadata": {},
     "output_type": "execute_result"
    }
   ],
   "source": [
    "# Paul Ray Thompson\n",
    "# SDEV220\n",
    "# Problem 3.4\n",
    "\n",
    "seconds_per_day = seconds_per_hour * 24\n",
    "seconds_per_day\n"
   ]
  },
  {
   "cell_type": "code",
   "execution_count": 5,
   "id": "b771ded6",
   "metadata": {},
   "outputs": [
    {
     "data": {
      "text/plain": [
       "24.0"
      ]
     },
     "execution_count": 5,
     "metadata": {},
     "output_type": "execute_result"
    }
   ],
   "source": [
    "# Paul Ray Thompson\n",
    "# SDEV220\n",
    "# Problem 3.5\n",
    "\n",
    "seconds_per_day / seconds_per_hour\n",
    "\n"
   ]
  },
  {
   "cell_type": "code",
   "execution_count": 6,
   "id": "efdebc06",
   "metadata": {},
   "outputs": [
    {
     "data": {
      "text/plain": [
       "24"
      ]
     },
     "execution_count": 6,
     "metadata": {},
     "output_type": "execute_result"
    }
   ],
   "source": [
    "# Paul Ray Thompson\n",
    "# SDEV220\n",
    "# Problem 3.6\n",
    "\n",
    "seconds_per_day // seconds_per_hour\n",
    "\n",
    "# This result agrees with the floating-point result in\n",
    "# exercise 3.5 except for the final .0 \n"
   ]
  },
  {
   "cell_type": "code",
   "execution_count": null,
   "id": "a989917f",
   "metadata": {},
   "outputs": [],
   "source": []
  }
 ],
 "metadata": {
  "kernelspec": {
   "display_name": "Python 3 (ipykernel)",
   "language": "python",
   "name": "python3"
  },
  "language_info": {
   "codemirror_mode": {
    "name": "ipython",
    "version": 3
   },
   "file_extension": ".py",
   "mimetype": "text/x-python",
   "name": "python",
   "nbconvert_exporter": "python",
   "pygments_lexer": "ipython3",
   "version": "3.9.13"
  }
 },
 "nbformat": 4,
 "nbformat_minor": 5
}
